{
 "cells": [
  {
   "cell_type": "code",
   "execution_count": 6,
   "id": "547ccb06",
   "metadata": {},
   "outputs": [],
   "source": [
    "import os\n",
    "import random\n",
    "import shutil"
   ]
  },
  {
   "cell_type": "code",
   "execution_count": 12,
   "id": "f748b068",
   "metadata": {},
   "outputs": [],
   "source": [
    "def img_select(img_class, num):\n",
    "    img_dir = f\"./{img_class}\"\n",
    "    \n",
    "    img_list = os.listdir(img_dir)\n",
    "    \n",
    "    img_selected = random.sample(img_list, num)\n",
    "    \n",
    "    if not os.path.exists(f\"./data/{img_class}\"):\n",
    "        os.makedirs(f\"./data/{img_class}\")\n",
    "        \n",
    "    out_folder_path = f\"./data/{img_class}\"\n",
    "    in_folder_path = img_dir\n",
    "    images_to_save_names = img_selected\n",
    "    \n",
    "    for image_name in images_to_save_names:\n",
    "        cur_image_path = os.path.join(in_folder_path, image_name)\n",
    "        cur_image_out_path = os.path.join(out_folder_path, image_name)\n",
    "        shutil.copyfile(cur_image_path, cur_image_out_path)"
   ]
  },
  {
   "cell_type": "code",
   "execution_count": 13,
   "id": "93343a13",
   "metadata": {},
   "outputs": [],
   "source": [
    "img_class_list = ['daisy', 'dandelion', 'rose', 'sunflower', 'tulip']\n",
    "\n",
    "for img in img_class_list:\n",
    "    img_select(img, 80)"
   ]
  }
 ],
 "metadata": {
  "kernelspec": {
   "display_name": "Python 3 (ipykernel)",
   "language": "python",
   "name": "python3"
  },
  "language_info": {
   "codemirror_mode": {
    "name": "ipython",
    "version": 3
   },
   "file_extension": ".py",
   "mimetype": "text/x-python",
   "name": "python",
   "nbconvert_exporter": "python",
   "pygments_lexer": "ipython3",
   "version": "3.9.7"
  }
 },
 "nbformat": 4,
 "nbformat_minor": 5
}
